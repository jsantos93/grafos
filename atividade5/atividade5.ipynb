{
 "cells": [
  {
   "cell_type": "markdown",
   "metadata": {},
   "source": [
    "## Utilizando o Apache Spark e demais ferramentas correlatas, implemente os seguintes passos:\n",
    "\n",
    "1. Selecione um estado brasileiro e dez de suas cidades. Crie um CSV paraarmazenar as cidades, com id (nome da cidade), latitude, longitude e população. Crie outro CSV para armazenar a distância entre essas cidades, com src, dst e relationship como campos (adicione pelo menos 30 registros nesse arquivo).\n",
    "\n",
    "2. Utilizando as bibliotecas do Spark, crie um objeto GraphFrame a partir desses dois CSVs.\n",
    "\n",
    "3. Utilizando o método bfs (Breadth First Search), execute 5 filtragens a sua escolha.\n",
    "\n",
    "4. Execute 2 consultas utilizando o método find.\n",
    "\n",
    "5. Execute 2 consultas utilizando o método filterVertices.\n",
    "\n",
    "6. Implemente uma rotina que, recebendo como entrada um objeto GraphFrame, percorra todos os vértices do grafo com o algoritmo da busca em profundidade."
   ]
  },
  {
   "cell_type": "code",
   "execution_count": 1,
   "metadata": {},
   "outputs": [],
   "source": [
    "from graphframes import *\n",
    "from pyspark.context import SparkContext\n",
    "from pyspark.sql.session import SparkSession\n",
    "from pyspark import SparkConf"
   ]
  },
  {
   "cell_type": "markdown",
   "metadata": {},
   "source": [
    "### 1&2  Utilizando as bibliotecas do Spark, crie um objeto GraphFrame a partir desses dois CSVs."
   ]
  },
  {
   "cell_type": "code",
   "execution_count": 2,
   "metadata": {
    "scrolled": true
   },
   "outputs": [],
   "source": [
    "conf = SparkConf().setAppName('myapp').setMaster('local')\n",
    "sc = SparkContext.getOrCreate(conf)\n",
    "spark = SparkSession(sc)\n",
    "nodes = spark.read.csv('data/transport-nodes.csv', header=True)\n",
    "rels = spark.read.csv('data/transport-relationships.csv', header=True)\n",
    "g = GraphFrame(nodes, rels)"
   ]
  },
  {
   "cell_type": "code",
   "execution_count": 3,
   "metadata": {},
   "outputs": [
    {
     "name": "stdout",
     "output_type": "stream",
     "text": [
      "+----------------+---------+----------+----------+\n",
      "|              id| latitude| longitude|population|\n",
      "+----------------+---------+----------+----------+\n",
      "|       Araripina|52.379189|  4.899431|    821752|\n",
      "|         Caruaru|52.092876|   5.10448|    334176|\n",
      "|        Igarassu|52.078663|  4.288788|    514861|\n",
      "|       Instancia| 53.61239|  -0.22219|      9642|\n",
      "|         Carpina| 53.52285|  -1.13116|    302400|\n",
      "|   Serra Talhada|  51.9775|   4.13333|      9382|\n",
      "|      Arco Verde| 51.96375|    1.3511|     23689|\n",
      "|        Ouricuri| 52.05917|   1.15545|    133384|\n",
      "|         Surubim| 51.88921|   0.90421|    104390|\n",
      "|       Petrolina|51.509865| -0.118092|   8787892|\n",
      "|       Salgueiro|  51.9225|   4.47917|    623652|\n",
      "|             Exu| 52.01667|   4.70833|     70939|\n",
      "|          Cupira|-8.616944|    -35.95|    24 107|\n",
      "|           Orobó|   -7.745|-35.601944|    23 884|\n",
      "|     Rio Formoso|-8.663889|-35.158889|    23 535|\n",
      "|         Amaraji|-8.382778|-35.452778|    22 829|\n",
      "|      Feira Nova|-7.950833|-35.388889|    22 131|\n",
      "|      Parnamirim|-8.090833|-39.577778|    22 010|\n",
      "|      Chã Grande|-8.237778|-35.461944|    21 698|\n",
      "|Lagoa de Itaenga|-7.869444|-35.290278|    21 429|\n",
      "+----------------+---------+----------+----------+\n",
      "\n"
     ]
    }
   ],
   "source": [
    "g.vertices.show()"
   ]
  },
  {
   "cell_type": "code",
   "execution_count": 15,
   "metadata": {},
   "outputs": [
    {
     "name": "stdout",
     "output_type": "stream",
     "text": [
      "+----------------+----------------+------------+----+\n",
      "|             src|             dst|relationship|cost|\n",
      "+----------------+----------------+------------+----+\n",
      "|       Araripina|         Caruaru|       EROAD|  46|\n",
      "|       Araripina|        Igarassu|       EROAD|  59|\n",
      "|        Igarassu|       Salgueiro|       EROAD|  26|\n",
      "|       Araripina|       Instancia|       EROAD| 369|\n",
      "|       Instancia|         Carpina|       EROAD|  74|\n",
      "|         Carpina|       Petrolina|       EROAD| 277|\n",
      "|   Serra Talhada|        Igarassu|       EROAD|  27|\n",
      "|      Arco Verde|   Serra Talhada|       EROAD| 207|\n",
      "|        Ouricuri|      Arco Verde|       EROAD|  22|\n",
      "|         Surubim|        Ouricuri|       EROAD|  32|\n",
      "|       Petrolina|         Surubim|       EROAD| 106|\n",
      "|             Exu|       Salgueiro|       EROAD|  25|\n",
      "|             Exu|         Caruaru|       EROAD|  35|\n",
      "|        Igarassu|             Exu|       EROAD|  32|\n",
      "|   Serra Talhada|       Salgueiro|       EROAD|  33|\n",
      "|          Cupira|           Orobó|       EROAD| 148|\n",
      "|           Orobó|     Rio Formoso|       EROAD| 181|\n",
      "|     Rio Formoso|        Igarassu|       EROAD| 113|\n",
      "|     Rio Formoso|             Exu|       EROAD| 626|\n",
      "|             Exu|         Amaraji|       EROAD| 570|\n",
      "|      Feira Nova|         Amaraji|       EROAD|  88|\n",
      "|         Amaraji|        Ouricuri|       EROAD| 577|\n",
      "|      Parnamirim|       Instancia|       EROAD| 558|\n",
      "|   Serra Talhada|Lagoa de Itaenga|       EROAD| 391|\n",
      "|Lagoa de Itaenga|      Chã Grande|       EROAD|  62|\n",
      "|      Chã Grande|      Arco Verde|       EROAD| 188|\n",
      "+----------------+----------------+------------+----+\n",
      "\n"
     ]
    }
   ],
   "source": [
    "g.edges.show(30)"
   ]
  },
  {
   "cell_type": "markdown",
   "metadata": {},
   "source": [
    "### 3. Utilizando o método bfs (Breadth First Search), execute 5 filtragens a sua escolha."
   ]
  },
  {
   "cell_type": "code",
   "execution_count": 5,
   "metadata": {},
   "outputs": [
    {
     "name": "stdout",
     "output_type": "stream",
     "text": [
      "+--------------------+--------------------+--------------------+--------------------+--------------------+\n",
      "|                from|                  e0|                  v1|                  e1|                  to|\n",
      "+--------------------+--------------------+--------------------+--------------------+--------------------+\n",
      "|[Araripina, 52.37...|[Araripina, Igara...|[Igarassu, 52.078...|[Igarassu, Salgue...|[Salgueiro, 51.92...|\n",
      "+--------------------+--------------------+--------------------+--------------------+--------------------+\n",
      "\n"
     ]
    }
   ],
   "source": [
    "paths = g.bfs(\"id = 'Araripina'\", \"id = 'Salgueiro'\")\n",
    "paths.show()"
   ]
  },
  {
   "cell_type": "code",
   "execution_count": 6,
   "metadata": {
    "scrolled": true
   },
   "outputs": [
    {
     "name": "stdout",
     "output_type": "stream",
     "text": [
      "+---+--------+---------+----------+\n",
      "| id|latitude|longitude|population|\n",
      "+---+--------+---------+----------+\n",
      "+---+--------+---------+----------+\n",
      "\n"
     ]
    }
   ],
   "source": [
    "paths = g.bfs(\"id = 'Araripina'\", \"id = 'Salgueiro'\", \n",
    "              edgeFilter = \"relationship != 'EROAD'\")\n",
    "paths.show()"
   ]
  },
  {
   "cell_type": "code",
   "execution_count": 16,
   "metadata": {},
   "outputs": [
    {
     "name": "stdout",
     "output_type": "stream",
     "text": [
      "+--------------------+--------------------+--------------------+--------------------+--------------------+--------------------+--------------------+--------------------+--------------------+--------------------+--------------------+--------------------+--------------------+\n",
      "|                from|                  e0|                  v1|                  e1|                  v2|                  e2|                  v3|                  e3|                  v4|                  e4|                  v5|                  e5|                  to|\n",
      "+--------------------+--------------------+--------------------+--------------------+--------------------+--------------------+--------------------+--------------------+--------------------+--------------------+--------------------+--------------------+--------------------+\n",
      "|[Igarassu, 52.078...|[Igarassu, Exu, E...|[Exu, 52.01667, 4...|[Exu, Amaraji, ER...|[Amaraji, -8.3827...|[Amaraji, Ouricur...|[Ouricuri, 52.059...|[Ouricuri, Arco V...|[Arco Verde, 51.9...|[Arco Verde, Serr...|[Serra Talhada, 5...|[Serra Talhada, L...|[Lagoa de Itaenga...|\n",
      "+--------------------+--------------------+--------------------+--------------------+--------------------+--------------------+--------------------+--------------------+--------------------+--------------------+--------------------+--------------------+--------------------+\n",
      "\n"
     ]
    }
   ],
   "source": [
    "paths = g.bfs(\"id = 'Igarassu'\", \"id = 'Lagoa de Itaenga'\")\n",
    "paths.show()"
   ]
  },
  {
   "cell_type": "code",
   "execution_count": 8,
   "metadata": {},
   "outputs": [
    {
     "name": "stdout",
     "output_type": "stream",
     "text": [
      "+--------------------+--------------------+--------------------+--------------------+--------------------+--------------------+--------------------+\n",
      "|                from|                  e0|                  v1|                  e1|                  v2|                  e2|                  to|\n",
      "+--------------------+--------------------+--------------------+--------------------+--------------------+--------------------+--------------------+\n",
      "|[Exu, 52.01667, 4...|[Exu, Amaraji, ER...|[Amaraji, -8.3827...|[Amaraji, Ouricur...|[Ouricuri, 52.059...|[Ouricuri, Arco V...|[Arco Verde, 51.9...|\n",
      "+--------------------+--------------------+--------------------+--------------------+--------------------+--------------------+--------------------+\n",
      "\n"
     ]
    }
   ],
   "source": [
    "paths = g.bfs(\"id = 'Exu'\", \"id = 'Arco Verde'\")\n",
    "paths.show()"
   ]
  },
  {
   "cell_type": "code",
   "execution_count": 9,
   "metadata": {},
   "outputs": [
    {
     "name": "stdout",
     "output_type": "stream",
     "text": [
      "+--------------------+--------------------+--------------------+--------------------+--------------------+--------------------+--------------------+--------------------+--------------------+--------------------+--------------------+--------------------+--------------------+--------------------+--------------------+\n",
      "|                from|                  e0|                  v1|                  e1|                  v2|                  e2|                  v3|                  e3|                  v4|                  e4|                  v5|                  e5|                  v6|                  e6|                  to|\n",
      "+--------------------+--------------------+--------------------+--------------------+--------------------+--------------------+--------------------+--------------------+--------------------+--------------------+--------------------+--------------------+--------------------+--------------------+--------------------+\n",
      "|[Petrolina, 51.50...|[Petrolina, Surub...|[Surubim, 51.8892...|[Surubim, Ouricur...|[Ouricuri, 52.059...|[Ouricuri, Arco V...|[Arco Verde, 51.9...|[Arco Verde, Serr...|[Serra Talhada, 5...|[Serra Talhada, I...|[Igarassu, 52.078...|[Igarassu, Exu, E...|[Exu, 52.01667, 4...|[Exu, Caruaru, ER...|[Caruaru, 52.0928...|\n",
      "+--------------------+--------------------+--------------------+--------------------+--------------------+--------------------+--------------------+--------------------+--------------------+--------------------+--------------------+--------------------+--------------------+--------------------+--------------------+\n",
      "\n"
     ]
    }
   ],
   "source": [
    "paths = g.bfs(\"id = 'Petrolina'\", \"id = 'Caruaru'\")\n",
    "paths.show()"
   ]
  },
  {
   "cell_type": "markdown",
   "metadata": {},
   "source": [
    "### 4. Execute 2 consultas utilizando o método find."
   ]
  },
  {
   "cell_type": "code",
   "execution_count": 10,
   "metadata": {
    "scrolled": true
   },
   "outputs": [
    {
     "name": "stdout",
     "output_type": "stream",
     "text": [
      "+--------------------+--------------------+--------------------+--------------------+--------------------+\n",
      "|                   a|                   e|                   b|                  e2|                   c|\n",
      "+--------------------+--------------------+--------------------+--------------------+--------------------+\n",
      "|[Araripina, 52.37...|[Araripina, Igara...|[Igarassu, 52.078...|[Igarassu, Exu, E...|[Exu, 52.01667, 4...|\n",
      "|[Araripina, 52.37...|[Araripina, Igara...|[Igarassu, 52.078...|[Igarassu, Salgue...|[Salgueiro, 51.92...|\n",
      "|[Araripina, 52.37...|[Araripina, Insta...|[Instancia, 53.61...|[Instancia, Carpi...|[Carpina, 53.5228...|\n",
      "|[Instancia, 53.61...|[Instancia, Carpi...|[Carpina, 53.5228...|[Carpina, Petroli...|[Petrolina, 51.50...|\n",
      "|[Carpina, 53.5228...|[Carpina, Petroli...|[Petrolina, 51.50...|[Petrolina, Surub...|[Surubim, 51.8892...|\n",
      "|[Serra Talhada, 5...|[Serra Talhada, I...|[Igarassu, 52.078...|[Igarassu, Exu, E...|[Exu, 52.01667, 4...|\n",
      "|[Serra Talhada, 5...|[Serra Talhada, I...|[Igarassu, 52.078...|[Igarassu, Salgue...|[Salgueiro, 51.92...|\n",
      "|[Arco Verde, 51.9...|[Arco Verde, Serr...|[Serra Talhada, 5...|[Serra Talhada, L...|[Lagoa de Itaenga...|\n",
      "|[Arco Verde, 51.9...|[Arco Verde, Serr...|[Serra Talhada, 5...|[Serra Talhada, S...|[Salgueiro, 51.92...|\n",
      "|[Arco Verde, 51.9...|[Arco Verde, Serr...|[Serra Talhada, 5...|[Serra Talhada, I...|[Igarassu, 52.078...|\n",
      "|[Ouricuri, 52.059...|[Ouricuri, Arco V...|[Arco Verde, 51.9...|[Arco Verde, Serr...|[Serra Talhada, 5...|\n",
      "|[Surubim, 51.8892...|[Surubim, Ouricur...|[Ouricuri, 52.059...|[Ouricuri, Arco V...|[Arco Verde, 51.9...|\n",
      "|[Petrolina, 51.50...|[Petrolina, Surub...|[Surubim, 51.8892...|[Surubim, Ouricur...|[Ouricuri, 52.059...|\n",
      "|[Igarassu, 52.078...|[Igarassu, Exu, E...|[Exu, 52.01667, 4...|[Exu, Amaraji, ER...|[Amaraji, -8.3827...|\n",
      "|[Igarassu, 52.078...|[Igarassu, Exu, E...|[Exu, 52.01667, 4...|[Exu, Caruaru, ER...|[Caruaru, 52.0928...|\n",
      "|[Igarassu, 52.078...|[Igarassu, Exu, E...|[Exu, 52.01667, 4...|[Exu, Salgueiro, ...|[Salgueiro, 51.92...|\n",
      "|[Cupira, -8.61694...|[Cupira, Orobó, E...|[Orobó, -7.745, -...|[Orobó, Rio Formo...|[Rio Formoso, -8....|\n",
      "|[Orobó, -7.745, -...|[Orobó, Rio Formo...|[Rio Formoso, -8....|[Rio Formoso, Exu...|[Exu, 52.01667, 4...|\n",
      "|[Orobó, -7.745, -...|[Orobó, Rio Formo...|[Rio Formoso, -8....|[Rio Formoso, Iga...|[Igarassu, 52.078...|\n",
      "|[Rio Formoso, -8....|[Rio Formoso, Iga...|[Igarassu, 52.078...|[Igarassu, Exu, E...|[Exu, 52.01667, 4...|\n",
      "+--------------------+--------------------+--------------------+--------------------+--------------------+\n",
      "only showing top 20 rows\n",
      "\n"
     ]
    }
   ],
   "source": [
    "motifs = g.find(\"(a)-[e]->(b); (b)-[e2]->(c)\")\n",
    "motifs.show()"
   ]
  },
  {
   "cell_type": "code",
   "execution_count": 17,
   "metadata": {},
   "outputs": [
    {
     "name": "stdout",
     "output_type": "stream",
     "text": [
      "+---+---+---+---+---+---+\n",
      "|  a|  e|  b| e2|  c| e3|\n",
      "+---+---+---+---+---+---+\n",
      "+---+---+---+---+---+---+\n",
      "\n"
     ]
    }
   ],
   "source": [
    "motifs = g.find(\"(a)-[e]->(b); (b)-[e2]->(c); (c)-[e3]->(a)\")\n",
    "motifs.show()"
   ]
  },
  {
   "cell_type": "markdown",
   "metadata": {},
   "source": [
    "### 5. Execute 2 consultas utilizando o método filterVertices."
   ]
  },
  {
   "cell_type": "code",
   "execution_count": 12,
   "metadata": {
    "scrolled": true
   },
   "outputs": [
    {
     "name": "stdout",
     "output_type": "stream",
     "text": [
      "+-------------+--------+---------+----------+\n",
      "|           id|latitude|longitude|population|\n",
      "+-------------+--------+---------+----------+\n",
      "|    Instancia|53.61239| -0.22219|      9642|\n",
      "|Serra Talhada| 51.9775|  4.13333|      9382|\n",
      "+-------------+--------+---------+----------+\n",
      "\n"
     ]
    }
   ],
   "source": [
    "g1 = g.filterVertices(\"population < 10000\")\n",
    "g1.vertices.show()"
   ]
  },
  {
   "cell_type": "code",
   "execution_count": 13,
   "metadata": {},
   "outputs": [
    {
     "name": "stdout",
     "output_type": "stream",
     "text": [
      "+---------+---------+---------+----------+\n",
      "|       id| latitude|longitude|population|\n",
      "+---------+---------+---------+----------+\n",
      "|Araripina|52.379189| 4.899431|    821752|\n",
      "|Instancia| 53.61239| -0.22219|      9642|\n",
      "|  Carpina| 53.52285| -1.13116|    302400|\n",
      "+---------+---------+---------+----------+\n",
      "\n"
     ]
    }
   ],
   "source": [
    "g1 = g.filterVertices(\"latitude > 52.1\")\n",
    "g1.vertices.show()"
   ]
  },
  {
   "cell_type": "markdown",
   "metadata": {},
   "source": [
    "### 6. Implemente uma rotina que, recebendo como entrada um objeto GraphFrame, percorra todos os vértices do grafo com o algoritmo da busca em profundidade."
   ]
  },
  {
   "cell_type": "code",
   "execution_count": null,
   "metadata": {},
   "outputs": [],
   "source": []
  },
  {
   "cell_type": "code",
   "execution_count": null,
   "metadata": {},
   "outputs": [],
   "source": []
  }
 ],
 "metadata": {
  "kernelspec": {
   "display_name": "Python 3",
   "language": "python",
   "name": "python3"
  },
  "language_info": {
   "codemirror_mode": {
    "name": "ipython",
    "version": 3
   },
   "file_extension": ".py",
   "mimetype": "text/x-python",
   "name": "python",
   "nbconvert_exporter": "python",
   "pygments_lexer": "ipython3",
   "version": "3.7.6"
  }
 },
 "nbformat": 4,
 "nbformat_minor": 4
}
