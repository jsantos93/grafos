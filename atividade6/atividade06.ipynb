{
 "cells": [
  {
   "cell_type": "markdown",
   "metadata": {},
   "source": [
    "# Utilizando o Apache Spark e demais ferramentas correlatas, além do grafo construído na [lista 5](https://github.com/jsantos93/grafos/tree/master/atividade5), implemente as seguintes operações:\n",
    "1. Determine o nó central através do grau.\n",
    "2. Determine o nó central por centralidade utilizando a distância de Wasserman e a distância harmônica (consultar material).\n",
    "3. Determine o nó central por intermediação."
   ]
  },
  {
   "cell_type": "code",
   "execution_count": 1,
   "metadata": {},
   "outputs": [],
   "source": [
    "from graphframes import *\n",
    "from pyspark.context import SparkContext\n",
    "from pyspark.sql.session import SparkSession\n",
    "from pyspark import SparkConf"
   ]
  },
  {
   "cell_type": "code",
   "execution_count": 2,
   "metadata": {},
   "outputs": [],
   "source": [
    "conf = SparkConf().setAppName('myapp').setMaster('local')\n",
    "sc = SparkContext.getOrCreate(conf)\n",
    "spark = SparkSession(sc)\n",
    "nodes = spark.read.csv('data/transport-nodes.csv', header=True)\n",
    "rels = spark.read.csv('data/transport-relationships.csv', header=True)\n",
    "g = GraphFrame(nodes, rels)"
   ]
  },
  {
   "cell_type": "markdown",
   "metadata": {},
   "source": [
    "## 1. Determine o nó central através do grau."
   ]
  },
  {
   "cell_type": "code",
   "execution_count": 7,
   "metadata": {},
   "outputs": [],
   "source": [
    "total_degree = g.degrees\n",
    "in_degree = g.inDegrees\n",
    "out_degree = g.outDegrees"
   ]
  },
  {
   "cell_type": "code",
   "execution_count": 10,
   "metadata": {},
   "outputs": [
    {
     "name": "stdout",
     "output_type": "stream",
     "text": [
      "+----------------+------+--------+---------+\n",
      "|              id|degree|inDegree|outDegree|\n",
      "+----------------+------+--------+---------+\n",
      "|        Igarassu|     5|       3|        2|\n",
      "|       Salgueiro|     3|       3|        0|\n",
      "|             Exu|     5|       2|        3|\n",
      "|         Caruaru|     2|       2|        0|\n",
      "|        Ouricuri|     3|       2|        1|\n",
      "|       Instancia|     3|       2|        1|\n",
      "|      Arco Verde|     3|       2|        1|\n",
      "|         Amaraji|     3|       2|        1|\n",
      "|         Surubim|     2|       1|        1|\n",
      "|         Carpina|     2|       1|        1|\n",
      "|       Petrolina|     2|       1|        1|\n",
      "|      Chã Grande|     2|       1|        1|\n",
      "|     Rio Formoso|     3|       1|        2|\n",
      "|   Serra Talhada|     4|       1|        3|\n",
      "|           Orobó|     2|       1|        1|\n",
      "|Lagoa de Itaenga|     2|       1|        1|\n",
      "|       Araripina|     3|       0|        3|\n",
      "|      Feira Nova|     1|       0|        1|\n",
      "|          Cupira|     1|       0|        1|\n",
      "|      Parnamirim|     1|       0|        1|\n",
      "+----------------+------+--------+---------+\n",
      "\n"
     ]
    }
   ],
   "source": [
    "(total_degree.join(in_degree, \"id\", how=\"left\")\n",
    " .join(out_degree, \"id\", how=\"left\")\n",
    " .fillna(0)\n",
    " .sort(\"inDegree\", ascending=False)\n",
    " .show())"
   ]
  },
  {
   "cell_type": "markdown",
   "metadata": {},
   "source": [
    "## 2. Determine o nó central por centralidade utilizando a distância de Wasserman e a distância harmônica (consultar material)."
   ]
  },
  {
   "cell_type": "code",
   "execution_count": 5,
   "metadata": {},
   "outputs": [],
   "source": [
    "import networkx as nx\n",
    "import pandas as pd\n",
    "import json\n",
    "\n",
    "df = pd.read_csv(\"data/transport-relationships.csv\")"
   ]
  },
  {
   "cell_type": "code",
   "execution_count": 6,
   "metadata": {},
   "outputs": [],
   "source": [
    "Graphtype = nx.DiGraph()\n",
    "gnx = nx.from_pandas_edgelist(df, edge_attr='cost', create_using=Graphtype)"
   ]
  },
  {
   "cell_type": "code",
   "execution_count": 8,
   "metadata": {},
   "outputs": [
    {
     "name": "stdout",
     "output_type": "stream",
     "text": [
      "{\n",
      "  \"Araripina\": 0.0,\n",
      "  \"Caruaru\": 0.19160260201064458,\n",
      "  \"Igarassu\": 0.23766447368421054,\n",
      "  \"Salgueiro\": 0.2623481781376518,\n",
      "  \"Instancia\": 0.10526315789473684,\n",
      "  \"Carpina\": 0.09473684210526315,\n",
      "  \"Petrolina\": 0.0935672514619883,\n",
      "  \"Serra Talhada\": 0.2083633741888969,\n",
      "  \"Arco Verde\": 0.2578055307760928,\n",
      "  \"Ouricuri\": 0.24935289042277825,\n",
      "  \"Surubim\": 0.09398496240601503,\n",
      "  \"Exu\": 0.2083633741888969,\n",
      "  \"Cupira\": 0.0,\n",
      "  \"Orob\\u00f3\": 0.05263157894736842,\n",
      "  \"Rio Formoso\": 0.07017543859649122,\n",
      "  \"Amaraji\": 0.19253830779480346,\n",
      "  \"Feira Nova\": 0.0,\n",
      "  \"Parnamirim\": 0.0,\n",
      "  \"Lagoa de Itaenga\": 0.17483363581367212,\n",
      "  \"Ch\\u00e3 Grande\": 0.15059927045336113\n",
      "}\n",
      "Surubim\n"
     ]
    }
   ],
   "source": [
    "result = nx.closeness_centrality(gnx)\n",
    "print(json.dumps(result, indent=2))\n",
    "print(max(result))"
   ]
  },
  {
   "cell_type": "code",
   "execution_count": 9,
   "metadata": {},
   "outputs": [
    {
     "name": "stdout",
     "output_type": "stream",
     "text": [
      "{\n",
      "  \"Araripina\": 0,\n",
      "  \"Caruaru\": 5.688492063492065,\n",
      "  \"Igarassu\": 6.78452380952381,\n",
      "  \"Salgueiro\": 7.33452380952381,\n",
      "  \"Instancia\": 2.0,\n",
      "  \"Carpina\": 2.0,\n",
      "  \"Petrolina\": 2.1666666666666665,\n",
      "  \"Serra Talhada\": 5.135714285714288,\n",
      "  \"Arco Verde\": 6.5166666666666675,\n",
      "  \"Ouricuri\": 6.409523809523811,\n",
      "  \"Surubim\": 2.333333333333333,\n",
      "  \"Exu\": 5.978968253968255,\n",
      "  \"Cupira\": 0,\n",
      "  \"Orob\\u00f3\": 1.0,\n",
      "  \"Rio Formoso\": 1.5,\n",
      "  \"Amaraji\": 5.712301587301588,\n",
      "  \"Feira Nova\": 0,\n",
      "  \"Parnamirim\": 0,\n",
      "  \"Lagoa de Itaenga\": 4.445238095238095,\n",
      "  \"Ch\\u00e3 Grande\": 4.009126984126984\n",
      "}\n",
      "Surubim\n"
     ]
    }
   ],
   "source": [
    "result = nx.harmonic_centrality(gnx)\n",
    "print(json.dumps(result, indent=2))\n",
    "print(max(result))"
   ]
  },
  {
   "cell_type": "markdown",
   "metadata": {},
   "source": [
    "## 3. Determine o nó central por intermediação."
   ]
  },
  {
   "cell_type": "code",
   "execution_count": 11,
   "metadata": {},
   "outputs": [
    {
     "name": "stdout",
     "output_type": "stream",
     "text": [
      "{\n",
      "  \"Araripina\": 0.0,\n",
      "  \"Caruaru\": 0.0,\n",
      "  \"Igarassu\": 0.1388888888888889,\n",
      "  \"Salgueiro\": 0.0,\n",
      "  \"Instancia\": 0.04678362573099415,\n",
      "  \"Carpina\": 0.07602339181286549,\n",
      "  \"Petrolina\": 0.09941520467836257,\n",
      "  \"Serra Talhada\": 0.2573099415204678,\n",
      "  \"Arco Verde\": 0.2807017543859649,\n",
      "  \"Ouricuri\": 0.25146198830409355,\n",
      "  \"Surubim\": 0.11695906432748537,\n",
      "  \"Exu\": 0.17982456140350878,\n",
      "  \"Cupira\": 0.0,\n",
      "  \"Orob\\u00f3\": 0.03216374269005848,\n",
      "  \"Rio Formoso\": 0.05847953216374269,\n",
      "  \"Amaraji\": 0.1286549707602339,\n",
      "  \"Feira Nova\": 0.0,\n",
      "  \"Parnamirim\": 0.0,\n",
      "  \"Lagoa de Itaenga\": 0.049707602339181284,\n",
      "  \"Ch\\u00e3 Grande\": 0.02631578947368421\n",
      "}\n",
      "Surubim\n"
     ]
    }
   ],
   "source": [
    "result = nx.betweenness_centrality(gnx)\n",
    "print(json.dumps(result, indent=2))\n",
    "print(max(result))"
   ]
  }
 ],
 "metadata": {
  "kernelspec": {
   "display_name": "Python 3",
   "language": "python",
   "name": "python3"
  },
  "language_info": {
   "codemirror_mode": {
    "name": "ipython",
    "version": 3
   },
   "file_extension": ".py",
   "mimetype": "text/x-python",
   "name": "python",
   "nbconvert_exporter": "python",
   "pygments_lexer": "ipython3",
   "version": "3.7.6"
  }
 },
 "nbformat": 4,
 "nbformat_minor": 4
}
