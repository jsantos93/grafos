{
 "cells": [
  {
   "cell_type": "markdown",
   "metadata": {},
   "source": [
    "# Utilizando o Apache Spark e demais ferramentas correlatas:\n",
    "1. Defina um grafo direcionado de pelo menos 10 vértices. O grafo deve representar uma situação do mundo real, sendo que os dados podem ser extraídos de alguma fonte ou artificialmente criados.\n",
    "2. Calcule o número de triângulos no grafo.\n",
    "3. Calcule o coeficiente de clustering local dos três vértices com maior grau.\n",
    "4. Determine os compoentens fortemente conectados e os componentes conectados. O quão eles diferem entre si?\n",
    "5. Determine os clusters do grafo a partir da execução do algoritmo de propagação de rótulos."
   ]
  },
  {
   "cell_type": "code",
   "execution_count": 1,
   "metadata": {},
   "outputs": [
    {
     "name": "stdout",
     "output_type": "stream",
     "text": [
      "Requirement already satisfied: networkx in /opt/conda/lib/python3.7/site-packages (2.4)\n",
      "Requirement already satisfied: decorator>=4.3.0 in /opt/conda/lib/python3.7/site-packages (from networkx) (4.4.2)\n",
      "Note: you may need to restart the kernel to use updated packages.\n"
     ]
    }
   ],
   "source": [
    "pip install networkx"
   ]
  },
  {
   "cell_type": "code",
   "execution_count": 56,
   "metadata": {},
   "outputs": [],
   "source": [
    "from pyspark import SparkConf\n",
    "from pyspark.context import SparkContext\n",
    "from pyspark.sql.session import SparkSession\n",
    "import networkx as nx\n",
    "import json\n",
    "import sys\n",
    "import pandas as pd\n",
    "import numpy as np\n",
    "import matplotlib.pyplot as plt\n",
    "from networkx.algorithms import community\n",
    "from graphframes import *"
   ]
  },
  {
   "cell_type": "markdown",
   "metadata": {},
   "source": [
    "## 1. Defina um grafo direcionado de pelo menos 10 vértices. O grafo deve representar uma situação do mundo real, sendo que os dados podem ser extraídos de alguma fonte ou artificialmente criados."
   ]
  },
  {
   "cell_type": "code",
   "execution_count": 57,
   "metadata": {},
   "outputs": [],
   "source": [
    "conf = SparkConf().setAppName('myapp').setMaster('local')\n",
    "sc = SparkContext.getOrCreate(conf)\n",
    "spark = SparkSession(sc)\n",
    "nodes = spark.read.csv('data/facebook-network.csv', header=True)\n",
    "rels = spark.read.csv('data/facebook-relationships.csv', header=True)\n",
    "g = GraphFrame(nodes, rels)"
   ]
  },
  {
   "cell_type": "code",
   "execution_count": 58,
   "metadata": {},
   "outputs": [],
   "source": [
    "import networkx as nx\n",
    "import pandas as pd\n",
    "import json\n",
    "\n",
    "df = rels.withColumnRenamed(\"src\",\"source\").withColumnRenamed(\"dst\",\"target\").toPandas()"
   ]
  },
  {
   "cell_type": "code",
   "execution_count": 59,
   "metadata": {},
   "outputs": [],
   "source": [
    "Graphtype = nx.DiGraph()\n",
    "graph_nx = nx.from_pandas_edgelist(df, create_using = Graphtype)"
   ]
  },
  {
   "cell_type": "code",
   "execution_count": 60,
   "metadata": {},
   "outputs": [
    {
     "data": {
      "image/png": "[encoded data removed]",
      "text/plain": [
       "<Figure size 432x288 with 1 Axes>"
      ]
     },
     "metadata": {},
     "output_type": "display_data"
    }
   ],
   "source": [
    "plt.subplot(111)\n",
    "nx.draw_shell(graph_nx, nlist = [graph_nx.nodes], with_labels=True)"
   ]
  },
  {
   "cell_type": "markdown",
   "metadata": {},
   "source": [
    "## 2. Calcule o número de triângulos no grafo."
   ]
  },
  {
   "cell_type": "code",
   "execution_count": 61,
   "metadata": {},
   "outputs": [
    {
     "name": "stdout",
     "output_type": "stream",
     "text": [
      "Triângulos: [['6', '5', '10'], ['6', '10', '9'], ['6', '9', '10'], ['3', '4', '5']]\n",
      "Total de Triângulos: 4\n"
     ]
    }
   ],
   "source": [
    "tri_graph = [way for way in nx.simple_cycles(graph_nx) if len(way) == 3]\n",
    "\n",
    "print(\"Triângulos:\", tri_graph)\n",
    "print(\"Total de Triângulos:\", len(tri_graph))"
   ]
  },
  {
   "cell_type": "markdown",
   "metadata": {},
   "source": [
    "## 3. Calcule o coeficiente de clustering local dos três vértices com maior grau."
   ]
  },
  {
   "cell_type": "code",
   "execution_count": 62,
   "metadata": {},
   "outputs": [
    {
     "data": {
      "text/plain": [
       "DiDegreeView({'3': 6, '1': 2, '4': 3, '5': 7, '6': 7, '9': 5, '8': 2, '7': 4, '10': 5, \"1'\": 1})"
      ]
     },
     "execution_count": 62,
     "metadata": {},
     "output_type": "execute_result"
    }
   ],
   "source": [
    "graph_nx.degree(graph_nx.nodes)"
   ]
  },
  {
   "cell_type": "code",
   "execution_count": 63,
   "metadata": {},
   "outputs": [
    {
     "name": "stdout",
     "output_type": "stream",
     "text": [
      "Coeficiente: 0.3888888888888889\n",
      "Coeficiente: 0.21052631578947367\n",
      "Coeficiente: 0.16666666666666666\n"
     ]
    }
   ],
   "source": [
    "print('Coeficiente:', nx.clustering(graph_nx, '6'))\n",
    "print('Coeficiente:', nx.clustering(graph_nx, '5'))\n",
    "print('Coeficiente:', nx.clustering(graph_nx, '3'))"
   ]
  },
  {
   "cell_type": "markdown",
   "metadata": {},
   "source": [
    "## 4. Determine os componentes fortemente conectados\n"
   ]
  },
  {
   "cell_type": "code",
   "execution_count": 64,
   "metadata": {},
   "outputs": [
    {
     "name": "stdout",
     "output_type": "stream",
     "text": [
      "[{'6', '3', '1', '10', '4', '9', '5'}, {'8', '7'}, {\"1'\"}]\n"
     ]
    }
   ],
   "source": [
    "print([conx for conx in nx.strongly_connected_components(graph_nx)])"
   ]
  },
  {
   "cell_type": "markdown",
   "metadata": {},
   "source": [
    "## 5. Determine os clusters do grafo a partir da execução do algoritmo de propagação de rótulos."
   ]
  },
  {
   "cell_type": "code",
   "execution_count": 65,
   "metadata": {
    "scrolled": true
   },
   "outputs": [
    {
     "name": "stdout",
     "output_type": "stream",
     "text": [
      "+---+-------------+\n",
      "| id|        label|\n",
      "+---+-------------+\n",
      "|  8| 223338299392|\n",
      "|  4| 420906795008|\n",
      "|  6| 644245094400|\n",
      "| 10| 644245094400|\n",
      "|  5| 420906795008|\n",
      "|  3| 154618822656|\n",
      "|  9| 420906795008|\n",
      "|  1| 420906795008|\n",
      "|  7|  25769803776|\n",
      "|  2|1623497637888|\n",
      "+---+-------------+\n",
      "\n"
     ]
    }
   ],
   "source": [
    "labl_propa = g.labelPropagation(maxIter = 50)\n",
    "labl_propa.select(\"id\", \"label\").show()"
   ]
  },
  {
   "cell_type": "code",
   "execution_count": null,
   "metadata": {},
   "outputs": [],
   "source": []
  }
 ],
 "metadata": {
  "kernelspec": {
   "display_name": "Python 3",
   "language": "python",
   "name": "python3"
  },
  "language_info": {
   "codemirror_mode": {
    "name": "ipython",
    "version": 3
   },
   "file_extension": ".py",
   "mimetype": "text/x-python",
   "name": "python",
   "nbconvert_exporter": "python",
   "pygments_lexer": "ipython3",
   "version": "3.7.6"
  }
 },
 "nbformat": 4,
 "nbformat_minor": 4
}
